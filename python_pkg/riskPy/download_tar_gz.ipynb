{
 "cells": [
  {
   "cell_type": "code",
   "execution_count": 10,
   "metadata": {},
   "outputs": [],
   "source": [
    "import requests\n",
    "import tarfile\n",
    "import os\n",
    "\n",
    "def download_package_source(package_name, down_loc):\n",
    "    # Fetch the package metadata\n",
    "    url = f\"https://pypi.org/pypi/{package_name}/json\"\n",
    "    response = requests.get(url)\n",
    "    \n",
    "    if response.status_code != 200:\n",
    "        print(f\"Failed to fetch package data: {response.status_code}\")\n",
    "        return\n",
    "\n",
    "    package_data = response.json()\n",
    "\n",
    "    # Get the URL for the source tar.gz file\n",
    "    releases = package_data['releases']\n",
    "    if not releases:\n",
    "        print(f\"No releases found for package: {package_name}\")\n",
    "        return\n",
    "    \n",
    "    # Look for the latest version tar.gz file\n",
    "    latest_version = sorted(releases.keys())[-1]\n",
    "    source_files = releases[latest_version]\n",
    "    \n",
    "    tar_gz_url = next((f['url'] for f in source_files if f['filename'].endswith('.tar.gz')), None)\n",
    "\n",
    "    if tar_gz_url is None:\n",
    "        print(f\"No tar.gz file found for package: {package_name}\")\n",
    "        return\n",
    "\n",
    "    # Download the tar.gz file\n",
    "    print(f\"Downloading {tar_gz_url}...\")\n",
    "    response = requests.get(tar_gz_url)\n",
    "\n",
    "    if response.status_code == 200:\n",
    "        filename = f\"{down_loc}/{tar_gz_url.split('/')[-1]}\"\n",
    "        with open(filename, 'wb') as file:\n",
    "            file.write(response.content)\n",
    "        print(f\"Downloaded {filename}\")\n",
    "\n",
    "        # Optionally extract the tar.gz file\n",
    "        with tarfile.open(filename, 'r:gz') as tar:\n",
    "            tar.extractall(path=down_loc)\n",
    "        print(f\"Extracted {filename}\")\n",
    "    else:\n",
    "        print(f\"Failed to download file: {response.status_code}\")\n",
    "\n"
   ]
  },
  {
   "cell_type": "code",
   "execution_count": 11,
   "metadata": {},
   "outputs": [
    {
     "name": "stdout",
     "output_type": "stream",
     "text": [
      "Downloading https://files.pythonhosted.org/packages/64/20/2133a092a0e87d1c250fe48704974b73a1341b7e4f800edecf40462a825d/requests-2.9.2.tar.gz...\n",
      "Downloading https://files.pythonhosted.org/packages/64/20/2133a092a0e87d1c250fe48704974b73a1341b7e4f800edecf40462a825d/requests-2.9.2.tar.gz...\n"
     ]
    },
    {
     "name": "stdout",
     "output_type": "stream",
     "text": [
      "Downloaded data/requests-2.9.2.tar.gz\n",
      "Extracted data/requests-2.9.2.tar.gz\n",
      "Downloaded data/requests-2.9.2.tar.gz\n",
      "Extracted data/requests-2.9.2.tar.gz\n"
     ]
    }
   ],
   "source": [
    "# Example usage\n",
    "download_package_source('requests', 'data')  # Replace 'requests' with your package name\n"
   ]
  },
  {
   "cell_type": "code",
   "execution_count": null,
   "metadata": {},
   "outputs": [],
   "source": []
  }
 ],
 "metadata": {
  "language_info": {
   "name": "python"
  }
 },
 "nbformat": 4,
 "nbformat_minor": 2
}
