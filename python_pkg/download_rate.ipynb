{
 "cells": [
  {
   "cell_type": "code",
   "execution_count": 15,
   "metadata": {},
   "outputs": [],
   "source": [
    "import requests\n",
    "from bs4 import BeautifulSoup\n",
    "import pandas as pd"
   ]
  },
  {
   "cell_type": "markdown",
   "metadata": {},
   "source": [
    "### Fetching data\n",
    "Fetch page from https://pypistats.org/ with data corresponding to a particular Python package. It may or may not be the most ethical thing to do. Ideally, one should purchase their API license or take permission. Web-mining like this is something I would not do beyond pure research purposes."
   ]
  },
  {
   "cell_type": "code",
   "execution_count": 16,
   "metadata": {},
   "outputs": [],
   "source": [
    "def get_download_stat(pack):\n",
    "    url = \"https://pypistats.org/packages/\" + pack\n",
    "    r = requests.get(url)\n",
    "    soup = BeautifulSoup(r.content, 'html.parser')\n",
    "    a = soup.findAll('p')\n",
    "    x = []\n",
    "    for br in a[1].findAll('br'):\n",
    "        next_s = br.nextSibling\n",
    "        x.append(next_s)\n",
    "    down = [w.replace('\\n', '').replace(',', '').split(':')[1] for w in x[-3:]]\n",
    "    return(pd.DataFrame({'Package':pack, 'Day':[down[0]], 'Week':[down[1]], 'Month':[down[2]]}))"
   ]
  },
  {
   "cell_type": "code",
   "execution_count": 17,
   "metadata": {},
   "outputs": [],
   "source": [
    "packs = ['numpy', 'pandas', 'requests']\n",
    "d = [get_download_stat(pack) for pack in packs]"
   ]
  },
  {
   "cell_type": "code",
   "execution_count": 18,
   "metadata": {},
   "outputs": [
    {
     "data": {
      "text/html": [
       "<div>\n",
       "<style scoped>\n",
       "    .dataframe tbody tr th:only-of-type {\n",
       "        vertical-align: middle;\n",
       "    }\n",
       "\n",
       "    .dataframe tbody tr th {\n",
       "        vertical-align: top;\n",
       "    }\n",
       "\n",
       "    .dataframe thead th {\n",
       "        text-align: right;\n",
       "    }\n",
       "</style>\n",
       "<table border=\"1\" class=\"dataframe\">\n",
       "  <thead>\n",
       "    <tr style=\"text-align: right;\">\n",
       "      <th></th>\n",
       "      <th>Package</th>\n",
       "      <th>Day</th>\n",
       "      <th>Week</th>\n",
       "      <th>Month</th>\n",
       "    </tr>\n",
       "  </thead>\n",
       "  <tbody>\n",
       "    <tr>\n",
       "      <th>0</th>\n",
       "      <td>numpy</td>\n",
       "      <td>12199519</td>\n",
       "      <td>81904501</td>\n",
       "      <td>347143498</td>\n",
       "    </tr>\n",
       "    <tr>\n",
       "      <th>0</th>\n",
       "      <td>pandas</td>\n",
       "      <td>9995998</td>\n",
       "      <td>65537130</td>\n",
       "      <td>285621741</td>\n",
       "    </tr>\n",
       "    <tr>\n",
       "      <th>0</th>\n",
       "      <td>requests</td>\n",
       "      <td>20282562</td>\n",
       "      <td>137689480</td>\n",
       "      <td>590714329</td>\n",
       "    </tr>\n",
       "  </tbody>\n",
       "</table>\n",
       "</div>"
      ],
      "text/plain": [
       "    Package       Day       Week      Month\n",
       "0     numpy  12199519   81904501  347143498\n",
       "0    pandas   9995998   65537130  285621741\n",
       "0  requests  20282562  137689480  590714329"
      ]
     },
     "execution_count": null,
     "metadata": {},
     "output_type": "execute_result"
    }
   ],
   "source": [
    "pd.concat(d)"
   ]
  }
 ],
 "metadata": {
  "language_info": {
   "name": "python"
  }
 },
 "nbformat": 4,
 "nbformat_minor": 2
}
